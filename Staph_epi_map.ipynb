{
 "cells": [
  {
   "cell_type": "code",
   "execution_count": 156,
   "id": "fb53ae4b",
   "metadata": {},
   "outputs": [],
   "source": [
    "import cobra\n",
    "import cobra.test\n",
    "import numpy as np\n",
    "import sammi\n",
    "import pandas as pd\n",
    "from itertools import chain\n",
    "from optlang.symbolics import Zero\n",
    "from cobra.sampling import OptGPSampler"
   ]
  },
  {
   "cell_type": "code",
   "execution_count": 157,
   "id": "a729e85d",
   "metadata": {},
   "outputs": [],
   "source": [
    "# Read the LB model\n",
    "model_LB = cobra.io.read_sbml_model('Staphylococcus_epidermidis_ATCC_12228.xml')\n",
    "model_LB.solver = 'glpk'"
   ]
  },
  {
   "cell_type": "code",
   "execution_count": 158,
   "id": "8eac598f",
   "metadata": {},
   "outputs": [],
   "source": [
    "# Sort out LB growth medium\n",
    "df = pd.read_excel('CarveMeMedia.ods')\n",
    "df['agora'] = df['exchange'].apply(lambda x: x.removesuffix('_e') + '(e)')\n",
    "df['agora'].replace('__', '_', regex=True, inplace=True)\n",
    "df['keep'] = df['agora'].apply(lambda x: x in model_LB.exchanges)\n",
    "df.set_index('agora', inplace=True)\n",
    "growth_medium_LB = df[(df['id'] == 'LB') & df['keep']]['limit']"
   ]
  },
  {
   "cell_type": "code",
   "execution_count": 159,
   "id": "11563cd0",
   "metadata": {},
   "outputs": [],
   "source": [
    "# Run the LB model with the defined growth medium\n",
    "model_LB.medium = growth_medium_LB"
   ]
  },
  {
   "cell_type": "code",
   "execution_count": 160,
   "id": "e204834a",
   "metadata": {},
   "outputs": [],
   "source": [
    "# Read the M9 model\n",
    "model_M9 = cobra.io.read_sbml_model('Staphylococcus_epidermidis_ATCC_12228.xml')\n",
    "model_M9.solver = 'glpk'"
   ]
  },
  {
   "cell_type": "code",
   "execution_count": 161,
   "id": "4baf1965",
   "metadata": {},
   "outputs": [],
   "source": [
    "# Sort out M9 growth medium\n",
    "df = pd.read_excel('CarveMeMedia.ods')\n",
    "df['agora'] = df['exchange'].apply(lambda x: x.removesuffix('_e') + '(e)')\n",
    "df['agora'].replace('__', '_', regex=True, inplace=True)\n",
    "df['keep'] = df['agora'].apply(lambda x: x in model_M9.exchanges)\n",
    "df.set_index('agora', inplace=True)\n",
    "growth_medium_M9 = df[(df['id'] == 'M9') & df['keep']]['limit']"
   ]
  },
  {
   "cell_type": "code",
   "execution_count": 162,
   "id": "3f8c9e48",
   "metadata": {},
   "outputs": [],
   "source": [
    "# Run the M9 model with the defined growth medium\n",
    "model_M9.medium = growth_medium_M9"
   ]
  },
  {
   "cell_type": "code",
   "execution_count": 163,
   "id": "95bc35b4",
   "metadata": {},
   "outputs": [],
   "source": [
    "# Solve the models\n",
    "solution_LB = model_LB.optimize()\n",
    "solution_M9 = model_M9.optimize()"
   ]
  },
  {
   "cell_type": "code",
   "execution_count": 164,
   "id": "0fdbb2a9",
   "metadata": {},
   "outputs": [
    {
     "data": {
      "text/html": [
       "<strong><em>Optimal</em> solution with objective value 50.539</strong><br><div>\n",
       "<style scoped>\n",
       "    .dataframe tbody tr th:only-of-type {\n",
       "        vertical-align: middle;\n",
       "    }\n",
       "\n",
       "    .dataframe tbody tr th {\n",
       "        vertical-align: top;\n",
       "    }\n",
       "\n",
       "    .dataframe thead th {\n",
       "        text-align: right;\n",
       "    }\n",
       "</style>\n",
       "<table border=\"1\" class=\"dataframe\">\n",
       "  <thead>\n",
       "    <tr style=\"text-align: right;\">\n",
       "      <th></th>\n",
       "      <th>fluxes</th>\n",
       "      <th>reduced_costs</th>\n",
       "    </tr>\n",
       "  </thead>\n",
       "  <tbody>\n",
       "    <tr>\n",
       "      <th>12DGR180ti</th>\n",
       "      <td>0.000000</td>\n",
       "      <td>0.000000e+00</td>\n",
       "    </tr>\n",
       "    <tr>\n",
       "      <th>1H2NPTH</th>\n",
       "      <td>0.000000</td>\n",
       "      <td>-2.293953e-18</td>\n",
       "    </tr>\n",
       "    <tr>\n",
       "      <th>1P4H2CBXLAH</th>\n",
       "      <td>0.000000</td>\n",
       "      <td>0.000000e+00</td>\n",
       "    </tr>\n",
       "    <tr>\n",
       "      <th>23DHMPO</th>\n",
       "      <td>0.000000</td>\n",
       "      <td>-5.568214e-18</td>\n",
       "    </tr>\n",
       "    <tr>\n",
       "      <th>23PDE2</th>\n",
       "      <td>0.000000</td>\n",
       "      <td>-1.734723e-18</td>\n",
       "    </tr>\n",
       "    <tr>\n",
       "      <th>...</th>\n",
       "      <td>...</td>\n",
       "      <td>...</td>\n",
       "    </tr>\n",
       "    <tr>\n",
       "      <th>r2137</th>\n",
       "      <td>0.401261</td>\n",
       "      <td>0.000000e+00</td>\n",
       "    </tr>\n",
       "    <tr>\n",
       "      <th>rtranscription</th>\n",
       "      <td>50.538622</td>\n",
       "      <td>0.000000e+00</td>\n",
       "    </tr>\n",
       "    <tr>\n",
       "      <th>sink_PGPm1[c]</th>\n",
       "      <td>-0.000010</td>\n",
       "      <td>0.000000e+00</td>\n",
       "    </tr>\n",
       "    <tr>\n",
       "      <th>sink_gthrd(c)</th>\n",
       "      <td>-0.401261</td>\n",
       "      <td>0.000000e+00</td>\n",
       "    </tr>\n",
       "    <tr>\n",
       "      <th>biomass034</th>\n",
       "      <td>50.538622</td>\n",
       "      <td>8.367872e-16</td>\n",
       "    </tr>\n",
       "  </tbody>\n",
       "</table>\n",
       "<p>1393 rows × 2 columns</p>\n",
       "</div>"
      ],
      "text/plain": [
       "<Solution 50.539 at 0x1ea3d6767f0>"
      ]
     },
     "execution_count": 164,
     "metadata": {},
     "output_type": "execute_result"
    }
   ],
   "source": [
    "solution_LB"
   ]
  },
  {
   "cell_type": "code",
   "execution_count": 165,
   "id": "95591323",
   "metadata": {},
   "outputs": [
    {
     "data": {
      "text/html": [
       "<strong><em>Optimal</em> solution with objective value 0.000</strong><br><div>\n",
       "<style scoped>\n",
       "    .dataframe tbody tr th:only-of-type {\n",
       "        vertical-align: middle;\n",
       "    }\n",
       "\n",
       "    .dataframe tbody tr th {\n",
       "        vertical-align: top;\n",
       "    }\n",
       "\n",
       "    .dataframe thead th {\n",
       "        text-align: right;\n",
       "    }\n",
       "</style>\n",
       "<table border=\"1\" class=\"dataframe\">\n",
       "  <thead>\n",
       "    <tr style=\"text-align: right;\">\n",
       "      <th></th>\n",
       "      <th>fluxes</th>\n",
       "      <th>reduced_costs</th>\n",
       "    </tr>\n",
       "  </thead>\n",
       "  <tbody>\n",
       "    <tr>\n",
       "      <th>12DGR180ti</th>\n",
       "      <td>0.0</td>\n",
       "      <td>0.000000e+00</td>\n",
       "    </tr>\n",
       "    <tr>\n",
       "      <th>1H2NPTH</th>\n",
       "      <td>0.0</td>\n",
       "      <td>3.153687e-15</td>\n",
       "    </tr>\n",
       "    <tr>\n",
       "      <th>1P4H2CBXLAH</th>\n",
       "      <td>0.0</td>\n",
       "      <td>0.000000e+00</td>\n",
       "    </tr>\n",
       "    <tr>\n",
       "      <th>23DHMPO</th>\n",
       "      <td>0.0</td>\n",
       "      <td>-2.110109e-31</td>\n",
       "    </tr>\n",
       "    <tr>\n",
       "      <th>23PDE2</th>\n",
       "      <td>0.0</td>\n",
       "      <td>0.000000e+00</td>\n",
       "    </tr>\n",
       "    <tr>\n",
       "      <th>...</th>\n",
       "      <td>...</td>\n",
       "      <td>...</td>\n",
       "    </tr>\n",
       "    <tr>\n",
       "      <th>r2137</th>\n",
       "      <td>0.0</td>\n",
       "      <td>0.000000e+00</td>\n",
       "    </tr>\n",
       "    <tr>\n",
       "      <th>rtranscription</th>\n",
       "      <td>0.0</td>\n",
       "      <td>0.000000e+00</td>\n",
       "    </tr>\n",
       "    <tr>\n",
       "      <th>sink_PGPm1[c]</th>\n",
       "      <td>0.0</td>\n",
       "      <td>0.000000e+00</td>\n",
       "    </tr>\n",
       "    <tr>\n",
       "      <th>sink_gthrd(c)</th>\n",
       "      <td>0.0</td>\n",
       "      <td>0.000000e+00</td>\n",
       "    </tr>\n",
       "    <tr>\n",
       "      <th>biomass034</th>\n",
       "      <td>0.0</td>\n",
       "      <td>-7.966115e-16</td>\n",
       "    </tr>\n",
       "  </tbody>\n",
       "</table>\n",
       "<p>1393 rows × 2 columns</p>\n",
       "</div>"
      ],
      "text/plain": [
       "<Solution 0.000 at 0x1ea417661f0>"
      ]
     },
     "execution_count": 165,
     "metadata": {},
     "output_type": "execute_result"
    }
   ],
   "source": [
    "solution_M9"
   ]
  },
  {
   "cell_type": "code",
   "execution_count": 166,
   "id": "ce24cd00",
   "metadata": {},
   "outputs": [],
   "source": [
    "# Set a threshold for significant difference\n",
    "threshold = 900"
   ]
  },
  {
   "cell_type": "code",
   "execution_count": 167,
   "id": "6c562cad",
   "metadata": {},
   "outputs": [],
   "source": [
    "# Identify reactions with significant differences\n",
    "different_reactions = set()\n",
    "for reaction in model_LB.reactions:\n",
    "    flux_LB = solution_LB.fluxes[reaction.id]\n",
    "    flux_M9 = solution_M9.fluxes[reaction.id]\n",
    "    if abs(flux_LB - flux_M9) > threshold:\n",
    "        different_reactions.add(reaction.id)"
   ]
  },
  {
   "cell_type": "code",
   "execution_count": 168,
   "id": "4a013ea4",
   "metadata": {},
   "outputs": [
    {
     "name": "stdout",
     "output_type": "stream",
     "text": [
      "Different Reactions:\n",
      "EX_cys_L(e)\n",
      "GLUt2r\n",
      "PUNP1\n",
      "EX_ac(e)\n",
      "PGM\n",
      "CYSDS\n",
      "EX_dad_2(e)\n",
      "r0570\n",
      "PGK\n",
      "PPM\n",
      "EX_etoh(e)\n",
      "NH4tb\n",
      "ALAD_R\n",
      "ACt2r\n",
      "ACKr\n",
      "ASPTA\n",
      "EX_nh4(e)\n",
      "HSDy\n",
      "ATPS4\n",
      "ETOHt\n",
      "EX_glu_L(e)\n",
      "THRt2r\n",
      "CYSabc\n",
      "PUNP2\n",
      "H2Ot\n",
      "EX_h(e)\n",
      "ALCD2x\n",
      "GAPD\n",
      "MDH\n",
      "ADNCNT3tc\n",
      "PTAr\n",
      "EX_adn(e)\n",
      "EX_h2o(e)\n",
      "G3PD2\n",
      "FUM\n",
      "DRPAr\n",
      "DALAt2r\n",
      "EX_thr_L(e)\n",
      "FORt2r\n",
      "ENO\n",
      "EX_for(e)\n",
      "DADNt2r\n",
      "EX_ala_D(e)\n"
     ]
    }
   ],
   "source": [
    "# Print the different reactions\n",
    "print(\"Different Reactions:\")\n",
    "for reaction_id in different_reactions:\n",
    "    print(reaction_id)"
   ]
  },
  {
   "cell_type": "code",
   "execution_count": 169,
   "id": "7e282cbc",
   "metadata": {},
   "outputs": [],
   "source": [
    "diff_reac_list = list(different_reactions)"
   ]
  },
  {
   "cell_type": "code",
   "execution_count": 170,
   "id": "eadf544b",
   "metadata": {},
   "outputs": [
    {
     "name": "stderr",
     "output_type": "stream",
     "text": [
      "C:\\Users\\sagni\\anaconda3\\lib\\site-packages\\cobra\\core\\group.py:107: UserWarning: need to pass in a list\n",
      "  warn(\"need to pass in a list\")\n"
     ]
    }
   ],
   "source": [
    "dat = [sammi.parser('Different reactions', diff_reac_list)]\n",
    "sammi.plot(model_LB,dat)"
   ]
  },
  {
   "cell_type": "code",
   "execution_count": 151,
   "id": "9bb3afd1",
   "metadata": {},
   "outputs": [],
   "source": [
    "# Identify reactions with significant differences\n",
    "increased_flux_reactions = set()\n",
    "decreased_flux_reactions = set()\n",
    "\n",
    "for reaction in model_LB.reactions:\n",
    "    flux_LB = solution_LB.fluxes[reaction.id]\n",
    "    flux_M9 = solution_M9.fluxes[reaction.id]\n",
    "    \n",
    "    flux_difference = flux_LB - flux_M9\n",
    "    \n",
    "    if abs(flux_difference) > threshold:\n",
    "        if flux_difference > 0:\n",
    "            increased_flux_reactions.add(reaction.id)\n",
    "        elif flux_difference < 0:\n",
    "            decreased_flux_reactions.add(reaction.id)"
   ]
  },
  {
   "cell_type": "code",
   "execution_count": 152,
   "id": "ee14c094",
   "metadata": {},
   "outputs": [
    {
     "name": "stdout",
     "output_type": "stream",
     "text": [
      "Reactions with Increased Flux in LB compared to M9:\n",
      "EX_ac(e)\n",
      "CYSDS\n",
      "r0570\n",
      "EX_etoh(e)\n",
      "ASPTA\n",
      "EX_nh4(e)\n",
      "ATPS4\n",
      "EX_glu_L(e)\n",
      "THRt2r\n",
      "CYSabc\n",
      "PUNP2\n",
      "GAPD\n",
      "PTAr\n",
      "EX_adn(e)\n",
      "EX_h2o(e)\n",
      "DRPAr\n",
      "ENO\n",
      "EX_for(e)\n",
      "DADNt2r\n",
      "EX_ala_D(e)\n"
     ]
    }
   ],
   "source": [
    "# Print the reactions with increased flux\n",
    "print(\"Reactions with Increased Flux in LB compared to M9:\")\n",
    "for reaction_id in increased_flux_reactions:\n",
    "    print(reaction_id)"
   ]
  },
  {
   "cell_type": "code",
   "execution_count": 153,
   "id": "abca6859",
   "metadata": {},
   "outputs": [
    {
     "name": "stdout",
     "output_type": "stream",
     "text": [
      "\n",
      "Reactions with Decreased Flux in LB compared to M9:\n",
      "EX_cys_L(e)\n",
      "GLUt2r\n",
      "PGM\n",
      "EX_dad_2(e)\n",
      "PGK\n",
      "PPM\n",
      "NH4tb\n",
      "ALAD_R\n",
      "ACt2r\n",
      "ACKr\n",
      "HSDy\n",
      "ETOHt\n",
      "H2Ot\n",
      "EX_h(e)\n",
      "ALCD2x\n",
      "MDH\n",
      "ADNCNT3tc\n",
      "G3PD2\n",
      "FUM\n",
      "DALAt2r\n",
      "EX_thr_L(e)\n",
      "FORt2r\n",
      "PUNP1\n"
     ]
    }
   ],
   "source": [
    "# Print the reactions with decreased flux\n",
    "print(\"\\nReactions with Decreased Flux in LB compared to M9:\")\n",
    "for reaction_id in decreased_flux_reactions:\n",
    "    print(reaction_id)"
   ]
  },
  {
   "cell_type": "code",
   "execution_count": 135,
   "id": "f73ca3d0",
   "metadata": {},
   "outputs": [],
   "source": [
    "increased_flux_reactions_list = list(increased_flux_reactions)"
   ]
  },
  {
   "cell_type": "code",
   "execution_count": 136,
   "id": "7c2fe4e6",
   "metadata": {},
   "outputs": [],
   "source": [
    "dat_i = [sammi.parser('Increased flux in LB vs M9', increased_flux_reactions_list)]\n",
    "sammi.plot(model_LB,dat_i)\n"
   ]
  },
  {
   "cell_type": "code",
   "execution_count": 154,
   "id": "d4208eda",
   "metadata": {},
   "outputs": [],
   "source": [
    "decreased_flux_reactions_list = list(decreased_flux_reactions)"
   ]
  },
  {
   "cell_type": "code",
   "execution_count": 155,
   "id": "bcece53d",
   "metadata": {},
   "outputs": [],
   "source": [
    "dat_d = [sammi.parser('Decreased flux in LB vs M9', decreased_flux_reactions_list)]\n",
    "sammi.plot(model_LB,dat_d)"
   ]
  },
  {
   "cell_type": "code",
   "execution_count": null,
   "id": "7fdaae79",
   "metadata": {},
   "outputs": [],
   "source": []
  }
 ],
 "metadata": {
  "kernelspec": {
   "display_name": "Python 3 (ipykernel)",
   "language": "python",
   "name": "python3"
  },
  "language_info": {
   "codemirror_mode": {
    "name": "ipython",
    "version": 3
   },
   "file_extension": ".py",
   "mimetype": "text/x-python",
   "name": "python",
   "nbconvert_exporter": "python",
   "pygments_lexer": "ipython3",
   "version": "3.9.12"
  }
 },
 "nbformat": 4,
 "nbformat_minor": 5
}
